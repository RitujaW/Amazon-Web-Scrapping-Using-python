{
 "cells": [
  {
   "cell_type": "code",
   "execution_count": 1,
   "metadata": {},
   "outputs": [],
   "source": [
    "from bs4 import BeautifulSoup\n",
    "import requests\n",
    "import time\n",
    "import datetime\n",
    "\n",
    "import smtplib \n"
   ]
  },
  {
   "cell_type": "code",
   "execution_count": 2,
   "metadata": {},
   "outputs": [],
   "source": [
    "URL = 'https://www.amazon.in/GeekDawn-T-Shirt-Programmer-Geek-Gifting/dp/B086N2CFX4/ref=sr_1_3?keywords=data%2Banalyst%2Btshirt&qid=1643346413&sprefix=data%2Bana%2Caps%2C313&sr=8-3&th=1'\n",
    "\n",
    "headers = {\"User-Agent\": \"Mozilla/5.0 (Windows NT 10.0; Win64; x64) AppleWebKit/537.36 (KHTML, like Gecko) Chrome/97.0.4692.71 Safari/537.36\", \n",
    "    \"X-Amzn-Trace-Id\": \"Root=1-61f37e0b-4e72e83960b74ef129ed4064\" } \n",
    "\n",
    "page = requests.get(URL, headers = headers)\n",
    "\n",
    "soup1 = BeautifulSoup(page.content, \"html.parser\")\n",
    "\n",
    "soup2 = BeautifulSoup(soup1.prettify(), \"html.parser\")\n",
    "\n",
    "\n",
    "try:\n",
    "    title = soup2.find(id = \"productTitle\").get_text()\n",
    "except AttributeError:\n",
    "    print(title)\n",
    "\n",
    "try:\n",
    "    price = soup2.find(\"span\", {\"class\" : \"a-offscreen\"}).get_text()\n",
    "    \n",
    "except AttributeError:\n",
    "    print(price)\n",
    "\n",
    "    \n",
    "#title = soup2.find(id = \"productTitle\").get_text() \n",
    "#print(title)\n",
    "\n",
    "#price = soup2.find(\"span\", {\"class\" : \"a-offscreen\"}).get_text()\n",
    "#print(price)\n",
    "\n",
    "    \n"
   ]
  },
  {
   "cell_type": "code",
   "execution_count": 10,
   "metadata": {},
   "outputs": [],
   "source": [
    "try:\n",
    "    title = soup2.find(id = \"productTitle\").get_text()\n",
    "except AttributeError:\n",
    "    print(title)\n"
   ]
  },
  {
   "cell_type": "code",
   "execution_count": null,
   "metadata": {},
   "outputs": [],
   "source": []
  },
  {
   "cell_type": "code",
   "execution_count": 4,
   "metadata": {},
   "outputs": [
    {
     "name": "stdout",
     "output_type": "stream",
     "text": [
      "Geek Dawn Men's Regular T-Shirt\n",
      "549.00\n"
     ]
    }
   ],
   "source": [
    "#clearing the whitespaces\n",
    "\n",
    "price = price.strip()[1:]\n",
    "title = title.strip()\n",
    "\n",
    "print(title)\n",
    "print(price)"
   ]
  },
  {
   "cell_type": "code",
   "execution_count": 5,
   "metadata": {},
   "outputs": [
    {
     "name": "stdout",
     "output_type": "stream",
     "text": [
      "2022-01-29\n"
     ]
    }
   ],
   "source": [
    "import datetime\n",
    "\n",
    "today = datetime.date.today()\n",
    "print(today)"
   ]
  },
  {
   "cell_type": "code",
   "execution_count": 6,
   "metadata": {},
   "outputs": [],
   "source": [
    "#importing our data to csv file\n",
    "\n",
    "import csv\n",
    "\n",
    "header = ['Title' , 'Price','Date']\n",
    "data = [title, price ,today]\n",
    "#type(data)\n",
    "\n",
    "with open(\"AmazonWebScrapping.csv\", \"w\", newline='', encoding = 'UTF8') as f:\n",
    "    writer = csv.writer(f)\n",
    "    writer.writerow(header)\n",
    "    writer.writerow(data)\n"
   ]
  },
  {
   "cell_type": "code",
   "execution_count": 7,
   "metadata": {},
   "outputs": [
    {
     "name": "stdout",
     "output_type": "stream",
     "text": [
      "                             Title  Price        Date\n",
      "0  Geek Dawn Men's Regular T-Shirt  549.0  2022-01-29\n"
     ]
    }
   ],
   "source": [
    "import pandas as pd\n",
    "\n",
    "df = pd.read_csv(\"C:/Users/hp/Desktop/Data Science/Data Analysis Portfolio project/Amazon Web Scrapping Project/AmazonWebScrapping.csv\")\n",
    "print(df)"
   ]
  },
  {
   "cell_type": "code",
   "execution_count": 8,
   "metadata": {},
   "outputs": [],
   "source": [
    "#appending data to the csv\n",
    "\n",
    "with open(\"AmazonWebScrapping.csv\", \"a+\", newline='', encoding = 'UTF8') as f:\n",
    "    writer = csv.writer(f)\n",
    "    writer.writerow(data)"
   ]
  },
  {
   "cell_type": "code",
   "execution_count": null,
   "metadata": {},
   "outputs": [],
   "source": []
  },
  {
   "cell_type": "code",
   "execution_count": 16,
   "metadata": {},
   "outputs": [],
   "source": [
    "def check_price():\n",
    "    URL = 'https://www.amazon.in/GeekDawn-T-Shirt-Programmer-Geek-Gifting/dp/B086N2CFX4/ref=sr_1_3?keywords=data%2Banalyst%2Btshirt&qid=1643346413&sprefix=data%2Bana%2Caps%2C313&sr=8-3&th=1'\n",
    "\n",
    "    headers = {\"User-Agent\": \"Mozilla/5.0 (Windows NT 10.0; Win64; x64) AppleWebKit/537.36 (KHTML, like Gecko) Chrome/97.0.4692.71 Safari/537.36\", \n",
    "    \"X-Amzn-Trace-Id\": \"Root=1-61f37e0b-4e72e83960b74ef129ed4064\" } \n",
    "\n",
    "    page = requests.get(URL, headers = headers)\n",
    "\n",
    "    soup1 = BeautifulSoup(page.content, \"html.parser\")\n",
    "\n",
    "    soup2 = BeautifulSoup(soup1.prettify(), \"html.parser\")\n",
    "\n",
    "\n",
    "    try:\n",
    "        title = soup2.find(id = \"productTitle\").get_text()\n",
    "    except AttributeError:\n",
    "        \n",
    "\n",
    "    #try:\n",
    "    #price = soup2.find(\"span\", {\"class\" : \"a-offscreen\"}).get_text()\n",
    "    #except AttributeError:\n",
    "       \n",
    "        \n",
    "    #price = price.strip()[1:]\n",
    "        title = title.strip()\n",
    "    \n",
    "    import datetime\n",
    "\n",
    "    today = datetime.date.today()\n",
    "    \n",
    "    import csv\n",
    "\n",
    "    header = ['Title' , 'Price','Date']\n",
    "    data = [title, price ,today]\n",
    "    \n",
    "    with open(\"AmazonWebScrapping.csv\", \"a+\", newline='', encoding = 'UTF8') as f:\n",
    "        writer = csv.writer(f)\n",
    "        writer.writerow(data)\n",
    "        \n",
    "    if(price < 400):\n",
    "        send_mail()\n",
    "    "
   ]
  },
  {
   "cell_type": "code",
   "execution_count": 12,
   "metadata": {},
   "outputs": [
    {
     "ename": "KeyboardInterrupt",
     "evalue": "",
     "output_type": "error",
     "traceback": [
      "\u001b[1;31m---------------------------------------------------------------------------\u001b[0m",
      "\u001b[1;31mKeyboardInterrupt\u001b[0m                         Traceback (most recent call last)",
      "\u001b[1;32m<ipython-input-12-9d49b55d09d0>\u001b[0m in \u001b[0;36m<module>\u001b[1;34m\u001b[0m\n\u001b[0;32m      1\u001b[0m \u001b[1;32mwhile\u001b[0m\u001b[1;33m(\u001b[0m\u001b[1;32mTrue\u001b[0m\u001b[1;33m)\u001b[0m\u001b[1;33m:\u001b[0m\u001b[1;33m\u001b[0m\u001b[1;33m\u001b[0m\u001b[0m\n\u001b[0;32m      2\u001b[0m     \u001b[0mcheck_price\u001b[0m\u001b[1;33m(\u001b[0m\u001b[1;33m)\u001b[0m\u001b[1;33m\u001b[0m\u001b[1;33m\u001b[0m\u001b[0m\n\u001b[1;32m----> 3\u001b[1;33m     \u001b[0mtime\u001b[0m\u001b[1;33m.\u001b[0m\u001b[0msleep\u001b[0m\u001b[1;33m(\u001b[0m\u001b[1;36m5\u001b[0m\u001b[1;33m)\u001b[0m\u001b[1;33m\u001b[0m\u001b[1;33m\u001b[0m\u001b[0m\n\u001b[0m",
      "\u001b[1;31mKeyboardInterrupt\u001b[0m: "
     ]
    }
   ],
   "source": [
    "while(True):\n",
    "    check_price()\n",
    "    time.sleep(5) #Stop/ interrupt the kernerl "
   ]
  },
  {
   "cell_type": "code",
   "execution_count": 13,
   "metadata": {},
   "outputs": [
    {
     "name": "stdout",
     "output_type": "stream",
     "text": [
      "                                                Title  Price        Date\n",
      "0                     Geek Dawn Men's Regular T-Shirt  549.0  2022-01-29\n",
      "1                     Geek Dawn Men's Regular T-Shirt  549.0  2022-01-29\n",
      "2   \\n                   Geek Dawn Men's Regular T...  549.0  2022-01-29\n",
      "3   \\n                   Geek Dawn Men's Regular T...  549.0  2022-01-29\n",
      "4   \\n                   Geek Dawn Men's Regular T...  549.0  2022-01-29\n",
      "5   \\n                   Geek Dawn Men's Regular T...  549.0  2022-01-29\n",
      "6   \\n                   Geek Dawn Men's Regular T...  549.0  2022-01-29\n",
      "7   \\n                   Geek Dawn Men's Regular T...  549.0  2022-01-29\n",
      "8   \\n                   Geek Dawn Men's Regular T...  549.0  2022-01-29\n",
      "9   \\n                   Geek Dawn Men's Regular T...  549.0  2022-01-29\n",
      "10  \\n                   Geek Dawn Men's Regular T...  549.0  2022-01-29\n",
      "11  \\n                   Geek Dawn Men's Regular T...  549.0  2022-01-29\n",
      "12  \\n                   Geek Dawn Men's Regular T...  549.0  2022-01-29\n",
      "13  \\n                   Geek Dawn Men's Regular T...  549.0  2022-01-29\n",
      "14  \\n                   Geek Dawn Men's Regular T...  549.0  2022-01-29\n",
      "15  \\n                   Geek Dawn Men's Regular T...  549.0  2022-01-29\n",
      "16  \\n                   Geek Dawn Men's Regular T...  549.0  2022-01-29\n",
      "17  \\n                   Geek Dawn Men's Regular T...  549.0  2022-01-29\n",
      "18  \\n                   Geek Dawn Men's Regular T...  549.0  2022-01-29\n",
      "19  \\n                   Geek Dawn Men's Regular T...  549.0  2022-01-29\n",
      "20  \\n                   Geek Dawn Men's Regular T...  549.0  2022-01-29\n",
      "21  \\n                   Geek Dawn Men's Regular T...  549.0  2022-01-29\n"
     ]
    }
   ],
   "source": [
    "import pandas as pd\n",
    "\n",
    "df = pd.read_csv(\"C:/Users/hp/Desktop/Data Science/Data Analysis Portfolio project/Amazon Web Scrapping Project/AmazonWebScrapping.csv\")\n",
    "print(df)"
   ]
  },
  {
   "cell_type": "code",
   "execution_count": null,
   "metadata": {},
   "outputs": [],
   "source": []
  },
  {
   "cell_type": "code",
   "execution_count": null,
   "metadata": {},
   "outputs": [],
   "source": []
  },
  {
   "cell_type": "code",
   "execution_count": null,
   "metadata": {},
   "outputs": [],
   "source": []
  },
  {
   "cell_type": "code",
   "execution_count": 17,
   "metadata": {},
   "outputs": [],
   "source": [
    "# sending  yourself an email when a price hits below a certain level. \n",
    "\n",
    "def send_mail():\n",
    "    server = smtplib.SMTP_SSL('smtp.gmail.com',465)\n",
    "    server.ehlo()\n",
    "    #server.starttls()\n",
    "    server.ehlo()\n",
    "    server.login('ritujawardole@gmail.com','Ri@tuja100')\n",
    "    \n",
    "    subject = \"The Shirt you want is below Rs.300! Now is your chance to buy!\"\n",
    "    body = \"Rituja, This is the moment we have been waiting for. Now is your chance to pick up the shirt of your dreams. Don't mess it up! Link here: https://www.amazon.com/Funny-Data-Systems-Business-Analyst/dp/B07FNW9FGJ/ref=sr_1_3?dchild=1&keywords=data+analyst+tshirt&qid=1626655184&sr=8-3\"\n",
    "   \n",
    "    msg = f\"Subject: {subject}\\n\\n{body}\"\n",
    "    \n",
    "    server.sendmail(\n",
    "        'ritujawardole@gmail.com',\n",
    "        msg\n",
    "     \n",
    "    )"
   ]
  },
  {
   "cell_type": "code",
   "execution_count": null,
   "metadata": {},
   "outputs": [],
   "source": []
  }
 ],
 "metadata": {
  "kernelspec": {
   "display_name": "Python 3",
   "language": "python",
   "name": "python3"
  },
  "language_info": {
   "codemirror_mode": {
    "name": "ipython",
    "version": 3
   },
   "file_extension": ".py",
   "mimetype": "text/x-python",
   "name": "python",
   "nbconvert_exporter": "python",
   "pygments_lexer": "ipython3",
   "version": "3.7.6"
  }
 },
 "nbformat": 4,
 "nbformat_minor": 4
}
